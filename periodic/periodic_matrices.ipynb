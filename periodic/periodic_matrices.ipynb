{
 "cells": [
  {
   "cell_type": "code",
   "execution_count": 6,
   "metadata": {},
   "outputs": [
    {
     "name": "stdout",
     "output_type": "stream",
     "text": [
      "The line_profiler extension is already loaded. To reload it, use:\n",
      "  %reload_ext line_profiler\n",
      "The memory_profiler extension is already loaded. To reload it, use:\n",
      "  %reload_ext memory_profiler\n",
      "The cython extension is already loaded. To reload it, use:\n",
      "  %reload_ext cython\n"
     ]
    }
   ],
   "source": [
    "import numpy as np\n",
    "import scipy.linalg as sla\n",
    "import scipy.sparse as sp\n",
    "import scipy.sparse.linalg as spla\n",
    "import matplotlib.pyplot as plt\n",
    "import time\n",
    "import shelve\n",
    "%matplotlib notebook\n",
    "%load_ext line_profiler\n",
    "%load_ext memory_profiler\n",
    "%load_ext cython"
   ]
  },
  {
   "cell_type": "code",
   "execution_count": 9,
   "metadata": {},
   "outputs": [
    {
     "data": {
      "text/plain": [
       "[<60x60 sparse matrix of type '<class 'numpy.complex128'>'\n",
       " \twith 103 stored elements in Compressed Sparse Column format>,\n",
       " <124x124 sparse matrix of type '<class 'numpy.complex128'>'\n",
       " \twith 215 stored elements in Compressed Sparse Column format>,\n",
       " <252x252 sparse matrix of type '<class 'numpy.complex128'>'\n",
       " \twith 439 stored elements in Compressed Sparse Column format>,\n",
       " <508x508 sparse matrix of type '<class 'numpy.complex128'>'\n",
       " \twith 887 stored elements in Compressed Sparse Column format>,\n",
       " <1020x1020 sparse matrix of type '<class 'numpy.complex128'>'\n",
       " \twith 1783 stored elements in Compressed Sparse Column format>,\n",
       " <2044x2044 sparse matrix of type '<class 'numpy.complex128'>'\n",
       " \twith 3575 stored elements in Compressed Sparse Column format>,\n",
       " <4092x4092 sparse matrix of type '<class 'numpy.complex128'>'\n",
       " \twith 7159 stored elements in Compressed Sparse Column format>,\n",
       " <8188x8188 sparse matrix of type '<class 'numpy.complex128'>'\n",
       " \twith 14327 stored elements in Compressed Sparse Column format>]"
      ]
     },
     "execution_count": 9,
     "metadata": {},
     "output_type": "execute_result"
    }
   ],
   "source": [
    "matrices = shelve.open(\"matrices.dat\", \"r\")\n",
    "matrices['LHS_L']"
   ]
  },
  {
   "cell_type": "code",
   "execution_count": 16,
   "metadata": {},
   "outputs": [
    {
     "name": "stdout",
     "output_type": "stream",
     "text": [
      "[-3 -2 -1  0]\n",
      "[0 1 2 3]\n"
     ]
    }
   ],
   "source": [
    "A = matrices['LHS'][-1].tocsc()\n",
    "LU = spla.splu(A, permc_spec=\"NATURAL\")\n",
    "print(LU.L.todia().offsets)\n",
    "print(LU.U.todia().offsets)"
   ]
  },
  {
   "cell_type": "code",
   "execution_count": null,
   "metadata": {},
   "outputs": [],
   "source": [
    "np.linalg.cond(A.A)"
   ]
  },
  {
   "cell_type": "code",
   "execution_count": 15,
   "metadata": {},
   "outputs": [
    {
     "name": "stdout",
     "output_type": "stream",
     "text": [
      "peak memory: 155.98 MiB, increment: 0.00 MiB\n"
     ]
    }
   ],
   "source": [
    "A_csc = A.tocsc()\n",
    "%memit spla.splu(A_csc, permc_spec=\"NATURAL\")"
   ]
  },
  {
   "cell_type": "code",
   "execution_count": null,
   "metadata": {},
   "outputs": [],
   "source": []
  }
 ],
 "metadata": {
  "kernelspec": {
   "display_name": "Python 3",
   "language": "python",
   "name": "python3"
  },
  "language_info": {
   "codemirror_mode": {
    "name": "ipython",
    "version": 3
   },
   "file_extension": ".py",
   "mimetype": "text/x-python",
   "name": "python",
   "nbconvert_exporter": "python",
   "pygments_lexer": "ipython3",
   "version": "3.7.0"
  }
 },
 "nbformat": 4,
 "nbformat_minor": 2
}
